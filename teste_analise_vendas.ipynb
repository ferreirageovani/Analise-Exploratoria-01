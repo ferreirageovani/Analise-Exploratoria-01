{
  "nbformat": 4,
  "nbformat_minor": 0,
  "metadata": {
    "colab": {
      "provenance": [],
      "authorship_tag": "ABX9TyOCF7QoccNlkmg6nPzPlNA3",
      "include_colab_link": true
    },
    "kernelspec": {
      "name": "python3",
      "display_name": "Python 3"
    },
    "language_info": {
      "name": "python"
    }
  },
  "cells": [
    {
      "cell_type": "markdown",
      "metadata": {
        "id": "view-in-github",
        "colab_type": "text"
      },
      "source": [
        "<a href=\"https://colab.research.google.com/github/ferreirageovani/Projeto---Analise-Exploratoria_01/blob/main/teste_analise_vendas.ipynb\" target=\"_parent\"><img src=\"https://colab.research.google.com/assets/colab-badge.svg\" alt=\"Open In Colab\"/></a>"
      ]
    },
    {
      "cell_type": "code",
      "source": [
        "import gspread\n",
        "from google.auth import default\n",
        "import pandas as pd\n",
        "from gspread_dataframe import get_as_dataframe, set_with_dataframe\n"
      ],
      "metadata": {
        "id": "HmCZCY8GnEQM"
      },
      "execution_count": 3,
      "outputs": []
    },
    {
      "cell_type": "code",
      "source": [
        "# Carregando os dados das abas\n",
        "produtos_df = pd.read_excel('teste_analista_operacoes.xlsx', sheet_name='produtos')\n",
        "compras_df = pd.read_excel('teste_analista_operacoes.xlsx', sheet_name='compras')\n"
      ],
      "metadata": {
        "id": "e2hGmf9YnRes"
      },
      "execution_count": 9,
      "outputs": []
    },
    {
      "cell_type": "code",
      "source": [
        "# Relacionando os dados usando o ID do produto\n",
        "geral_df = compras_df.merge(produtos_df[['id_produtos', 'preço']], left_on='produto', right_on='id_produtos', how='left')\n"
      ],
      "metadata": {
        "id": "qU0adZB4n98j"
      },
      "execution_count": 10,
      "outputs": []
    },
    {
      "cell_type": "code",
      "source": [
        "# Criando a nova aba \"geral\"\n",
        "with pd.ExcelWriter('teste_analista_operacoes.xlsx', mode='a') as writer:\n",
        "    geral_df.to_excel(writer, sheet_name='geral', index=False)\n"
      ],
      "metadata": {
        "id": "v7u5O_yWoBX2"
      },
      "execution_count": 11,
      "outputs": []
    },
    {
      "cell_type": "code",
      "source": [
        "# Carregando os dados da aba \"geral\"\n",
        "geral_df = pd.read_excel('teste_analista_operacoes.xlsx', sheet_name='geral')\n",
        "\n",
        "# Calculando o valor total de todas as vendas\n",
        "valor_total_vendas = geral_df['preço'].sum()\n",
        "\n",
        "print(f\"O valor total de todas as vendas é R$ {valor_total_vendas:.2f}\")\n"
      ],
      "metadata": {
        "colab": {
          "base_uri": "https://localhost:8080/"
        },
        "id": "8IAeSDBAoTCt",
        "outputId": "c95dec70-2a2a-4085-8ee4-b513f2ebf3ad"
      },
      "execution_count": 12,
      "outputs": [
        {
          "output_type": "stream",
          "name": "stdout",
          "text": [
            "O valor total de todas as vendas é R$ 5515807.00\n"
          ]
        }
      ]
    },
    {
      "cell_type": "code",
      "source": [
        "# Carregando os dados da aba \"geral\"\n",
        "geral_df = pd.read_excel('teste_analista_operacoes.xlsx', sheet_name='geral')\n"
      ],
      "metadata": {
        "id": "r-BRcV2Aorgh"
      },
      "execution_count": 13,
      "outputs": []
    },
    {
      "cell_type": "code",
      "source": [
        "# Calculando o valor médio das vendas\n",
        "valor_medio_vendas = geral_df['preço'].mean()\n",
        "\n",
        "print(f\"O valor médio de todas as vendas é R$ {valor_medio_vendas:.2f}\")\n"
      ],
      "metadata": {
        "colab": {
          "base_uri": "https://localhost:8080/"
        },
        "id": "tkVcib03otaS",
        "outputId": "c7e0613d-1ffb-42ba-a607-2f71fdde1701"
      },
      "execution_count": 14,
      "outputs": [
        {
          "output_type": "stream",
          "name": "stdout",
          "text": [
            "O valor médio de todas as vendas é R$ 501.48\n"
          ]
        }
      ]
    },
    {
      "cell_type": "code",
      "source": [
        "# Calculando a mediana das vendas\n",
        "mediana_vendas = geral_df['preço'].median()\n",
        "\n",
        "print(f\"A mediana de todas as vendas é R$ {mediana_vendas:.2f}\")\n",
        "\n"
      ],
      "metadata": {
        "colab": {
          "base_uri": "https://localhost:8080/"
        },
        "id": "rvZhzLWlo4ea",
        "outputId": "2a591c81-fe24-4446-9225-8ea7ced2b5d2"
      },
      "execution_count": 15,
      "outputs": [
        {
          "output_type": "stream",
          "name": "stdout",
          "text": [
            "A mediana de todas as vendas é R$ 499.00\n"
          ]
        }
      ]
    },
    {
      "cell_type": "code",
      "source": [
        "# Calculando o desvio padrão das vendas\n",
        "desvio_padrao_vendas = geral_df['preço'].std()\n",
        "\n",
        "print(f\"O desvio padrão das vendas é R$ {desvio_padrao_vendas:.2f}\")"
      ],
      "metadata": {
        "colab": {
          "base_uri": "https://localhost:8080/"
        },
        "id": "67rjJlhvpGAA",
        "outputId": "13e1ceb7-d309-4381-eb61-87c1091b6186"
      },
      "execution_count": 16,
      "outputs": [
        {
          "output_type": "stream",
          "name": "stdout",
          "text": [
            "O desvio padrão das vendas é R$ 288.03\n"
          ]
        }
      ]
    },
    {
      "cell_type": "code",
      "source": [
        "# Calculando o valor total das vendas\n",
        "valor_total_vendas = geral_df['preço'].sum()\n",
        "\n",
        "# Formatando o valor total das vendas para exibição com o símbolo de reais e duas casas decimais\n",
        "print(f\"O valor total de todas as vendas é R$ {valor_total_vendas:,.2f}\")\n"
      ],
      "metadata": {
        "colab": {
          "base_uri": "https://localhost:8080/"
        },
        "id": "jBR1BaWNpU3O",
        "outputId": "57995bec-0813-4603-9e7d-adc6e81eeafe"
      },
      "execution_count": 21,
      "outputs": [
        {
          "output_type": "stream",
          "name": "stdout",
          "text": [
            "O valor total de todas as vendas é R$ 5,515,807.00\n"
          ]
        }
      ]
    },
    {
      "cell_type": "code",
      "source": [
        "# Agrupar as vendas pelo dia da semana e somar os valores\n",
        "total_vendas_por_dia = geral_df.groupby('dia_da_semana')['preço'].sum()\n",
        "\n",
        "# Identificar o dia da semana com o maior valor de vendas\n",
        "dia_max_vendas = total_vendas_por_dia.idxmax()\n",
        "\n",
        "# Exibir o resultado\n",
        "print(f\"O dia da semana com o maior valor de vendas é o {dia_max_vendas}.\")"
      ],
      "metadata": {
        "colab": {
          "base_uri": "https://localhost:8080/"
        },
        "id": "Umbmz4t3pofR",
        "outputId": "2ec74d01-2704-4028-e216-fa1d2e7feebc"
      },
      "execution_count": 22,
      "outputs": [
        {
          "output_type": "stream",
          "name": "stdout",
          "text": [
            "O dia da semana com o maior valor de vendas é o 2.\n"
          ]
        }
      ]
    }
  ]
}